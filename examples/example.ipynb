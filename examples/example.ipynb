{
 "cells": [
  {
   "cell_type": "code",
   "execution_count": 23,
   "metadata": {},
   "outputs": [],
   "source": [
    "import clumpsptm\n",
    "import pandas as pd\n",
    "import os\n",
    "import numpy as np"
   ]
  },
  {
   "cell_type": "code",
   "execution_count": 2,
   "metadata": {},
   "outputs": [],
   "source": [
    "reference_dir = \"011421_ref\""
   ]
  },
  {
   "cell_type": "code",
   "execution_count": 4,
   "metadata": {},
   "outputs": [
    {
     "name": "stdout",
     "output_type": "stream",
     "text": [
      "   * Downloading pdb_seqres.txt...\n",
      "   * Downloading GRCh38_latest_protein.faa.gz...\n"
     ]
    }
   ],
   "source": [
    "clumpsptm.mp.dl_ref(reference_dir)"
   ]
  },
  {
   "cell_type": "code",
   "execution_count": 4,
   "metadata": {},
   "outputs": [
    {
     "name": "stderr",
     "output_type": "stream",
     "text": [
      "100%|██████████| 114963/114963 [00:05<00:00, 19328.74it/s]\n"
     ]
    }
   ],
   "source": [
    "clumpsptm.mp.split_fastas(\n",
    "    os.path.join(reference_dir, \"GRCh38_latest_protein.faa\"),\n",
    "    os.path.join(reference_dir, \"refseq_fastas\")\n",
    ")"
   ]
  },
  {
   "cell_type": "code",
   "execution_count": 4,
   "metadata": {},
   "outputs": [],
   "source": [
    "acetyl_input_df = pd.read_csv(\n",
    "    \"../../getzlab-pan-acetylomics-clustering/clumps/inputs/acetyl_pan_continuous.tsv\",\n",
    "    sep='\\t',\n",
    "    index_col=0\n",
    ")"
   ]
  },
  {
   "cell_type": "code",
   "execution_count": 5,
   "metadata": {},
   "outputs": [
    {
     "name": "stdout",
     "output_type": "stream",
     "text": [
      "3693 entries for NP_001257376.1\n"
     ]
    }
   ],
   "source": [
    "# ACADVL\n",
    "acc = 'NP_001257376.1'\n",
    "\n",
    "print(\"{} entries for {}\".format(\n",
    "    acetyl_input_df[acetyl_input_df['accession_number']==acc].shape[0],acc)\n",
    " )"
   ]
  },
  {
   "cell_type": "code",
   "execution_count": 6,
   "metadata": {},
   "outputs": [
    {
     "name": "stdout",
     "output_type": "stream",
     "text": [
      "\n",
      "\n",
      "Building a new DB, current time: 01/14/2021 21:38:51\n",
      "New DB name:   /home/sanand/CLUMPS-PTM/examples/011421_ref/pdb_db/pdb_db\n",
      "New DB title:  pdb_seq\n",
      "Sequence type: Protein\n",
      "Keep Linkouts: T\n",
      "Keep MBits: T\n",
      "Maximum file size: 1000000000B\n",
      "Adding sequences from FASTA; added 610466 sequences in 13.7208 seconds.\n",
      "\n",
      "   * Running 1 blast sequences using 1 threads\n"
     ]
    }
   ],
   "source": [
    "clumpsptm.mp.blast_sequences(\n",
    "    os.path.join(reference_dir,\"pdb_seqres.txt\"),\n",
    "    [os.path.join(reference_dir,\"refseq_fastas\",\"{}.seq\".format(acc))],\n",
    "    output_dir=reference_dir,\n",
    "    n_threads=1\n",
    ")"
   ]
  },
  {
   "cell_type": "code",
   "execution_count": 15,
   "metadata": {},
   "outputs": [
    {
     "name": "stdout",
     "output_type": "stream",
     "text": [
      "Blastp+ for NP_001257376.1 | 428 hits\n"
     ]
    }
   ],
   "source": [
    "accBlast = clumpsptm.mp.Blast(os.path.join(reference_dir, \"refseq_blasted\",\"{}.blasted.seq.gz\".format(acc)))\n",
    "print(accBlast)"
   ]
  },
  {
   "cell_type": "code",
   "execution_count": 32,
   "metadata": {},
   "outputs": [
    {
     "name": "stdout",
     "output_type": "stream",
     "text": [
      "Acetyl-sites found in CPTAC PanCan: \n",
      "\t[218 262 299 301 321 354 395 405 503 573 623 658 662]\n"
     ]
    }
   ],
   "source": [
    "acetyl_sites = np.array(acetyl_input_df[acetyl_input_df['accession_number']==acc]['site_position'].drop_duplicates())\n",
    "\n",
    "print(\"Acetyl-sites found in CPTAC PanCan: \\n\\t{}\".format(acetyl_sites))"
   ]
  },
  {
   "cell_type": "code",
   "execution_count": 34,
   "metadata": {},
   "outputs": [
    {
     "data": {
      "text/plain": [
       "Hit_def            3b96_A mol:protein length:587  Very long-chain...\n",
       "Hsp_num                                                            1\n",
       "Hsp_bit-score                                                1204.12\n",
       "Hsp_score                                                       3114\n",
       "Hsp_evalue                                                         0\n",
       "Hsp_query-from                                                    92\n",
       "Hsp_query-to                                                     678\n",
       "Hsp_hit-from                                                       1\n",
       "Hsp_hit-to                                                       587\n",
       "Hsp_query-frame                                                    0\n",
       "Hsp_hit-frame                                                      0\n",
       "Hsp_identity                                                     587\n",
       "Hsp_positive                                                     587\n",
       "Hsp_gaps                                                           0\n",
       "Hsp_align-len                                                    587\n",
       "Hsp_qseq           ESKSFAVGMFKGQLTTDQVFPYPSVLNEEQTQFLKELVEPVSRFFE...\n",
       "Hsp_hseq           ESKSFAVGMFKGQLTTDQVFPYPSVLNEEQTQFLKELVEPVSRFFE...\n",
       "Hsp_midline        ESKSFAVGMFKGQLTTDQVFPYPSVLNEEQTQFLKELVEPVSRFFE...\n",
       "relIdentity                                                        1\n",
       "Name: 0, dtype: object"
      ]
     },
     "execution_count": 34,
     "metadata": {},
     "output_type": "execute_result"
    }
   ],
   "source": [
    "accBlast.hits.loc[0]"
   ]
  },
  {
   "cell_type": "code",
   "execution_count": null,
   "metadata": {},
   "outputs": [],
   "source": []
  }
 ],
 "metadata": {
  "kernelspec": {
   "display_name": "Python 3",
   "language": "python",
   "name": "python3"
  },
  "language_info": {
   "codemirror_mode": {
    "name": "ipython",
    "version": 3
   },
   "file_extension": ".py",
   "mimetype": "text/x-python",
   "name": "python",
   "nbconvert_exporter": "python",
   "pygments_lexer": "ipython3",
   "version": "3.7.6"
  }
 },
 "nbformat": 4,
 "nbformat_minor": 4
}
